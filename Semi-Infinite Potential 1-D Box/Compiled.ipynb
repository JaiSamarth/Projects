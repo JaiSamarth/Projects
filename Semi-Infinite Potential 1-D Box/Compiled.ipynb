{
 "cells": [
  {
   "cell_type": "markdown",
   "metadata": {},
   "source": [
    "# Bound Energy states for particle in a semi-infinite potential wall\n",
    "### Let a particle of mass $m_e$ in a box with potential $\\infty$ for $x<0$ and finite potential $V_o$ for $x>a$ and we need to find the allowed bound energy states for the particle\n",
    "<img src=\"Box.png\"/>\n",
    "Now since potential at $x<0$ is $\\infty$, $\\Psi=0$ in this region.In the region $0\\leq x \\leq a$ can be solved as follows:-\n",
    "\\begin{align}\n",
    "-\\frac{\\hbar}{2m_e}\\frac{d^2}{dx^2}\\Psi(x) + V(x)\\Psi(x) = E\\Psi(x) \\\\ \n",
    "-\\frac{\\hbar}{2m_e}\\frac{d^2}{dx^2}\\Psi(x) + (0)\\Psi(x) = E\\Psi(x) \\\\\n",
    "-\\frac{\\hbar}{2m_e}\\frac{d}{dx^2}\\Psi(x) = E\\Psi(x) \\\\  \n",
    "\\frac{d^2}{dx^2}\\Psi(x) = -\\frac{2m_eE}{\\hbar^2}\\Psi(x) \n",
    "\\end{align}\n",
    "The general solution of this equation is of the form\n",
    "\\begin{align}\n",
    "\\Psi(x) = A\\cos{kx} + B\\sin{kx} \\text{ with } k = \\sqrt{\\frac{2m_eE}{\\hbar^2}}\\\\\n",
    "\\end{align}\n",
    "Now $\\Psi(x)$ must be $0$ at $ x = 0 $ for function to be continuous. Therefore we have $A = 0$.Hence $\\Psi$ can be written as :-\n",
    "\\begin{align}\n",
    "\\Psi(x) = B\\sin(kx)\n",
    "\\end{align}\n",
    "In the region $x > a$ we have :-\n",
    "\\begin{align}\n",
    "-\\frac{\\hbar}{2m_e}\\frac{d^2}{dx^2}\\Psi(x) + V(x)\\Psi(x) = E\\Psi(x) \\\\\n",
    "-\\frac{\\hbar}{2m_e}\\frac{d^2}{dx^2}\\Psi(x) + V_o\\Psi(x) = E\\Psi(x) \\\\\n",
    "\\frac{d^2}{dx^2}\\Psi(x) = \\frac{2m_e(V_o-E)}{\\hbar^2}\\Psi(x)\\\\\n",
    "\\end{align}\n",
    "The general solution is :-\n",
    "\\begin{align}\n",
    "Ce^{Lx} + De^{-Lx} \\text{ with } L = \\sqrt{\\frac{2m_e(V_o-E)}{\\hbar^2}}\n",
    "\\end{align}\n",
    "Now $C$ must be zero as $\\lim_{x \\to \\infty} Ce^{Lx} = \\infty$.Hence $\\Psi$ can be written as :-\n",
    "\\begin{align}\n",
    "\\Psi(x) = De^{-Lx} \\\\\n",
    "\\end{align}\n",
    "Now wavefunction must be continuous and differentiable a $x=a$, therefore\n",
    "\\begin{align}\n",
    "B\\sin(Ka) = De^{-La} \\text{  and  } B*K\\cos{Ka} = -D*Le^{-La}\\\\\n",
    "1/K\\tan{Ka} = -1/L\\\\\\\n",
    "\\sqrt{\\frac{\\hbar^2}{2m_eE}}\\tan{\\sqrt{\\frac{2m_eE}{\\hbar^2}}a}=-\\sqrt{\\frac{\\hbar^2}{2m_e(V_o-E)}}\\\\\n",
    "\\tan{\\sqrt{\\frac{2m_eE}{\\hbar^2}}a}=-\\sqrt{\\frac{E}{V_o-E}}\\text{   this is our condition for finding energy in bound states}\n",
    "\\end{align}\n",
    "Plotting the two sides of the equality witn energy of X axis and by assuming $a=10^{-15}$ and $V_o=0.000015$ we can se that the two curves intersect at discrete points which give us out bound state energy.  \n",
    "<img src=\"AllowedE.png\"/>\n",
    "Next step is finding out normalization constants for the two wavefunctions. Now  \n",
    "\\begin{align}\n",
    "\\text {since } B\\sin{Ka} = De^{-La}\\\\\n",
    "D = B\\sin{Ka}*e^{La}\\\\\n",
    "\\text{Condition for normalization :}\\\\\n",
    "\\int_{-\\infty}^{\\infty} \\! \\Psi^*(x)\\Psi(x) \\mathrm{d}x = 1\\\\\n",
    "|B|^2\\int_{0}^{a} \\! \\sin^2{Kx}\\mathrm{d}x+|B|^2\\sin^2{Ka}*e^{2La}\\int_{a}^{infty} \\! e^{-2La} = 1\\\\\n",
    "B = \\left[a/2-\\frac{1}{4K}\\sin{2Ka}+\\frac{1}{2L}\\sin^2{Ka}\\right]^\\frac{-1}{2}\\\\\n",
    "\\end{align}\n",
    "Plotting the wavefuntions by calculation $B$ for each wavefunction separately for the four different energy levels, we get graphs as follows :-\n",
    "<img src=\"Wavefunction n = 1.png\"/>\n",
    "<img src=\"Wavefunction n = 2.png\"/>\n",
    "<img src=\"Wavefunction n = 3.png\"/>\n",
    "<img src=\"Wavefunction n = 4.png\"/>"
   ]
  },
  {
   "cell_type": "code",
   "execution_count": null,
   "metadata": {},
   "outputs": [],
   "source": []
  },
  {
   "cell_type": "code",
   "execution_count": null,
   "metadata": {},
   "outputs": [],
   "source": []
  }
 ],
 "metadata": {
  "kernelspec": {
   "display_name": "Python 3",
   "language": "python",
   "name": "python3"
  },
  "language_info": {
   "codemirror_mode": {
    "name": "ipython",
    "version": 3
   },
   "file_extension": ".py",
   "mimetype": "text/x-python",
   "name": "python",
   "nbconvert_exporter": "python",
   "pygments_lexer": "ipython3",
   "version": "3.7.6"
  }
 },
 "nbformat": 4,
 "nbformat_minor": 4
}
